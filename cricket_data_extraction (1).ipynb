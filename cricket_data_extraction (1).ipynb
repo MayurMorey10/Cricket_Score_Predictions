{
  "nbformat": 4,
  "nbformat_minor": 0,
  "metadata": {
    "colab": {
      "provenance": []
    },
    "kernelspec": {
      "name": "python3",
      "display_name": "Python 3"
    },
    "language_info": {
      "name": "python"
    }
  },
  "cells": [
    {
      "cell_type": "code",
      "execution_count": null,
      "metadata": {
        "id": "hMZdgc1D50Np"
      },
      "outputs": [],
      "source": [
        "import numpy as np\n",
        "import pandas as pd\n",
        "from yaml import safe_load\n",
        "import os\n",
        "from tqdm import tqdm"
      ]
    },
    {
      "cell_type": "code",
      "source": [
        "filenames = []\n",
        "for file in os.listdir('/content/drive/MyDrive/cricket score predictions '):\n",
        "    filenames.append(os.path.join('/content/drive/MyDrive/cricket score predictions ',file))"
      ],
      "metadata": {
        "id": "OViU4jHt7jRC"
      },
      "execution_count": null,
      "outputs": []
    },
    {
      "cell_type": "code",
      "source": [
        "# %%capture\n",
        "final_df = pd.DataFrame()\n",
        "counter = 1\n",
        "for file in tqdm(filenames):\n",
        "    with open(file, 'r') as f:\n",
        "        df = pd.json_normalize(safe_load(f))\n",
        "        df['match_id'] = counter\n",
        "        final_df = final_df.append(df)\n",
        "        counter+=1"
      ],
      "metadata": {
        "id": "gjfJrezw8OVB"
      },
      "execution_count": null,
      "outputs": []
    },
    {
      "cell_type": "code",
      "source": [
        "backup = final_df.copy()"
      ],
      "metadata": {
        "id": "t1wpREHM89RA"
      },
      "execution_count": null,
      "outputs": []
    },
    {
      "cell_type": "code",
      "source": [
        "final_df.drop(columns=[\n",
        "    'meta.data_version',\n",
        "    'meta.created',\n",
        "    'meta.revision',\n",
        "    'info.outcome.bowl_out',\n",
        "    'info.bowl_out',\n",
        "    'info.supersubs.South Africa',\n",
        "    'info.supersubs.New Zealand',\n",
        "    'info.outcome.eliminator',\n",
        "    'info.outcome.result',\n",
        "    'info.outcome.method',\n",
        "    'info.neutral_venue',\n",
        "    'info.match_type_number',\n",
        "    'info.outcome.by.runs',\n",
        "    'info.outcome.by.wickets'\n",
        "],inplace=True)"
      ],
      "metadata": {
        "id": "ED0oHd9X9B4N"
      },
      "execution_count": null,
      "outputs": []
    },
    {
      "cell_type": "code",
      "source": [
        "final_df = final_df[final_df['info.gender'] == 'male']\n",
        "final_df.drop(columns=['info.gender'],inplace=True)"
      ],
      "metadata": {
        "id": "Vz1GvTi59Hj9"
      },
      "execution_count": null,
      "outputs": []
    },
    {
      "cell_type": "code",
      "source": [
        "final_df = final_df[final_df['info.overs'] == 20]\n",
        "final_df.drop(columns=['info.overs','info.match_type'],inplace=True)"
      ],
      "metadata": {
        "colab": {
          "base_uri": "https://localhost:8080/"
        },
        "id": "adhyGUpB9QL_",
        "outputId": "364e5c7e-3450-4690-8cb4-85bc897a573f"
      },
      "execution_count": null,
      "outputs": [
        {
          "output_type": "stream",
          "name": "stderr",
          "text": [
            "<ipython-input-35-7fb4794c9448>:2: SettingWithCopyWarning: \n",
            "A value is trying to be set on a copy of a slice from a DataFrame\n",
            "\n",
            "See the caveats in the documentation: https://pandas.pydata.org/pandas-docs/stable/user_guide/indexing.html#returning-a-view-versus-a-copy\n",
            "  final_df.drop(columns=['info.overs','info.match_type'],inplace=True)\n"
          ]
        }
      ]
    },
    {
      "cell_type": "code",
      "source": [
        "import pickle\n",
        "pickle.dump(final_df,open('dataset_level1.pkl','wb'))"
      ],
      "metadata": {
        "id": "9lVt5guF9SWI"
      },
      "execution_count": null,
      "outputs": []
    },
    {
      "cell_type": "code",
      "source": [
        "matches = pickle.load(open('/content/dataset_level1.pkl','rb'))\n",
        "matches.iloc[0]['innings'][0]['1st innings']['deliveries']"
      ],
      "metadata": {
        "id": "_YnxJWGOGdTi"
      },
      "execution_count": null,
      "outputs": []
    },
    {
      "cell_type": "code",
      "source": [
        "count = 1\n",
        "delivery_df = pd.DataFrame()\n",
        "for index, row in matches.iterrows():\n",
        "    if count in [75,108,150,180,268,360,443,458,584,748,982,1052,1111,1226,1345]:\n",
        "        count+=1\n",
        "        continue\n",
        "    count+=1\n",
        "    ball_of_match = []\n",
        "    batsman = []\n",
        "    bowler = []\n",
        "    runs = []\n",
        "    player_of_dismissed = []\n",
        "    teams = []\n",
        "    batting_team = []\n",
        "    match_id = []\n",
        "    city = []\n",
        "    venue = []\n",
        "    for ball in row['innings'][0]['1st innings']['deliveries']:\n",
        "        for key in ball.keys():\n",
        "            match_id.append(count)\n",
        "            batting_team.append(row['innings'][0]['1st innings']['team'])\n",
        "            teams.append(row['info.teams'])\n",
        "            ball_of_match.append(key)\n",
        "            batsman.append(ball[key]['batsman'])\n",
        "            bowler.append(ball[key]['bowler'])\n",
        "            runs.append(ball[key]['runs']['total'])\n",
        "            city.append(row['info.city'])\n",
        "            venue.append(row['info.venue'])\n",
        "            try:\n",
        "                player_of_dismissed.append(ball[key]['wicket']['player_out'])\n",
        "            except:\n",
        "                player_of_dismissed.append('0')\n",
        "    loop_df = pd.DataFrame({\n",
        "            'match_id':match_id,\n",
        "            'teams':teams,\n",
        "            'batting_team':batting_team,\n",
        "            'ball':ball_of_match,\n",
        "            'batsman':batsman,\n",
        "            'bowler':bowler,\n",
        "            'runs':runs,\n",
        "            'player_dismissed':player_of_dismissed,\n",
        "            'city':city,\n",
        "            'venue':venue\n",
        "        })\n",
        "    delivery_df = delivery_df.append(loop_df)"
      ],
      "metadata": {
        "id": "xGdpvWteG--B"
      },
      "execution_count": null,
      "outputs": []
    },
    {
      "cell_type": "code",
      "source": [
        "def bowl(row):\n",
        "    for team in row['teams']:\n",
        "        if team != row['batting_team']:\n",
        "            return team"
      ],
      "metadata": {
        "id": "hB-QfpjlHH8b"
      },
      "execution_count": 40,
      "outputs": []
    },
    {
      "cell_type": "code",
      "source": [
        "delivery_df['bowling_team'] = delivery_df.apply(bowl,axis=1)"
      ],
      "metadata": {
        "id": "VeY3BrOtHLWa"
      },
      "execution_count": 41,
      "outputs": []
    },
    {
      "cell_type": "code",
      "source": [
        "delivery_df.drop(columns=['teams'],inplace=True)"
      ],
      "metadata": {
        "id": "z91ojOeeHLUK"
      },
      "execution_count": 42,
      "outputs": []
    },
    {
      "cell_type": "code",
      "source": [
        "delivery_df['batting_team'].unique()"
      ],
      "metadata": {
        "colab": {
          "base_uri": "https://localhost:8080/"
        },
        "id": "WKXSWtbMHLRq",
        "outputId": "d966eff4-148f-4783-b788-1ecb6ce3533b"
      },
      "execution_count": 43,
      "outputs": [
        {
          "output_type": "execute_result",
          "data": {
            "text/plain": [
              "array(['Kenya', 'Botswana', 'Pakistan', 'Denmark', 'Jersey', 'Namibia',\n",
              "       'West Indies', 'Thailand', 'New Zealand', 'India', 'Norway',\n",
              "       'South Africa', 'Australia', 'England', 'Maldives', 'Bangladesh',\n",
              "       'Malaysia', 'Netherlands', 'Guernsey', 'Sri Lanka', 'Kuwait',\n",
              "       'Nepal', 'Singapore', 'Afghanistan', 'Zimbabwe',\n",
              "       'United States of America', 'Cayman Islands', 'Canada', 'Oman',\n",
              "       'Bermuda', 'Hong Kong', 'Ireland', 'Scotland',\n",
              "       'United Arab Emirates', 'Papua New Guinea', 'Nigeria', 'Portugal',\n",
              "       'Gibraltar', 'Vanuatu', 'Spain', 'Germany', 'Qatar', 'Iran',\n",
              "       'Belgium', 'Isle of Man', 'Bulgaria', 'Romania', 'Philippines',\n",
              "       'Italy', 'Ghana', 'Uganda'], dtype=object)"
            ]
          },
          "metadata": {},
          "execution_count": 43
        }
      ]
    },
    {
      "cell_type": "code",
      "source": [
        "teams = [\n",
        "    'Australia',\n",
        "    'India',\n",
        "    'Bangladesh',\n",
        "    'New Zealand',\n",
        "    'South Africa',\n",
        "    'England',\n",
        "    'West Indies',\n",
        "    'Afghanistan',\n",
        "    'Pakistan',\n",
        "    'Sri Lanka'\n",
        "]"
      ],
      "metadata": {
        "id": "fcA95pVCHRdC"
      },
      "execution_count": 44,
      "outputs": []
    },
    {
      "cell_type": "code",
      "source": [
        "delivery_df = delivery_df[delivery_df['batting_team'].isin(teams)]\n",
        "delivery_df = delivery_df[delivery_df['bowling_team'].isin(teams)]"
      ],
      "metadata": {
        "id": "yMhhHTH1HRah"
      },
      "execution_count": 45,
      "outputs": []
    },
    {
      "cell_type": "code",
      "source": [
        "output = delivery_df[['match_id','batting_team','bowling_team','ball','runs','player_dismissed','city','venue']]\n"
      ],
      "metadata": {
        "id": "PQMYgJTlHX3R"
      },
      "execution_count": 46,
      "outputs": []
    },
    {
      "cell_type": "code",
      "source": [
        "pickle.dump(output,open('dataset_level2.pkl','wb'))\n"
      ],
      "metadata": {
        "id": "JHKAyw-NHX0n"
      },
      "execution_count": 47,
      "outputs": []
    },
    {
      "cell_type": "code",
      "source": [
        "output[output['city'].isnull()]['venue'].value_counts()\n"
      ],
      "metadata": {
        "id": "ZPR5Tr9yHXyI"
      },
      "execution_count": null,
      "outputs": []
    },
    {
      "cell_type": "code",
      "source": [
        "x = np.where(output['city'].isnull(), output['venue'].str.split().apply(lambda x:x[0]), output['city'])\n"
      ],
      "metadata": {
        "id": "e_Rvv3R1HXvn"
      },
      "execution_count": 49,
      "outputs": []
    },
    {
      "cell_type": "code",
      "source": [
        "output['city'] = x\n"
      ],
      "metadata": {
        "id": "t1HeXalcHRX6"
      },
      "execution_count": null,
      "outputs": []
    },
    {
      "cell_type": "code",
      "source": [
        "output.drop(columns=['venue'],inplace=True)\n"
      ],
      "metadata": {
        "id": "C28-IIBGHpNJ"
      },
      "execution_count": null,
      "outputs": []
    },
    {
      "cell_type": "code",
      "source": [
        "total_df = output.groupby('match_id').sum()['runs'].reset_index()\n",
        "output = output.merge(total_df,on='match_id')"
      ],
      "metadata": {
        "colab": {
          "base_uri": "https://localhost:8080/"
        },
        "id": "GNsGL5hlHpLB",
        "outputId": "903964a2-6b86-4a02-db64-366881151962"
      },
      "execution_count": 52,
      "outputs": [
        {
          "output_type": "stream",
          "name": "stderr",
          "text": [
            "<ipython-input-52-7a22a32e7524>:1: FutureWarning: The default value of numeric_only in DataFrameGroupBy.sum is deprecated. In a future version, numeric_only will default to False. Either specify numeric_only or select only columns which should be valid for the function.\n",
            "  total_df = output.groupby('match_id').sum()['runs'].reset_index()\n"
          ]
        }
      ]
    },
    {
      "cell_type": "code",
      "source": [
        "output['current_score'] = output.groupby('match_id').cumsum()['runs_x']\n"
      ],
      "metadata": {
        "colab": {
          "base_uri": "https://localhost:8080/"
        },
        "id": "OV8ze4OMHpIp",
        "outputId": "6039fe5b-54bb-41d6-a614-3d233c16b0d3"
      },
      "execution_count": 53,
      "outputs": [
        {
          "output_type": "stream",
          "name": "stderr",
          "text": [
            "<ipython-input-53-5a28c7ec6464>:1: FutureWarning: The default value of numeric_only in DataFrameGroupBy.cumsum is deprecated. In a future version, numeric_only will default to False. Either specify numeric_only or select only columns which should be valid for the function.\n",
            "  output['current_score'] = output.groupby('match_id').cumsum()['runs_x']\n"
          ]
        }
      ]
    },
    {
      "cell_type": "code",
      "source": [
        "output['over'] = output['ball'].apply(lambda x:str(x).split(\".\")[0])\n",
        "output['ball_no'] = output['ball'].apply(lambda x:str(x).split(\".\")[1])"
      ],
      "metadata": {
        "id": "t7C48JLzHpF5"
      },
      "execution_count": 54,
      "outputs": []
    },
    {
      "cell_type": "code",
      "source": [
        "output['balls_bowled'] = (output['over'].astype('int')*6) + output['ball_no'].astype('int')\n"
      ],
      "metadata": {
        "id": "DYsERHUVHpDR"
      },
      "execution_count": 55,
      "outputs": []
    },
    {
      "cell_type": "code",
      "source": [
        "output['crr'] = round((output['current_score']*6)/output['balls_bowled'],2)\n"
      ],
      "metadata": {
        "id": "84KgELi3Hz5p"
      },
      "execution_count": 56,
      "outputs": []
    },
    {
      "cell_type": "code",
      "source": [
        "output['player_dismissed'] = output['player_dismissed'].apply(lambda x:0 if x=='0' else 1)\n",
        "output['player_dismissed'] = output['player_dismissed'].astype('int')\n",
        "output['player_dismissed'] = output.groupby('match_id').cumsum()['player_dismissed']\n",
        "output['wickets_left'] = 10 - output['player_dismissed']"
      ],
      "metadata": {
        "colab": {
          "base_uri": "https://localhost:8080/"
        },
        "id": "dCsf4NqwHz3L",
        "outputId": "50132f7f-728b-4046-e4a1-1325af84d645"
      },
      "execution_count": 57,
      "outputs": [
        {
          "output_type": "stream",
          "name": "stderr",
          "text": [
            "<ipython-input-57-bf2575bb1e2d>:3: FutureWarning: The default value of numeric_only in DataFrameGroupBy.cumsum is deprecated. In a future version, numeric_only will default to False. Either specify numeric_only or select only columns which should be valid for the function.\n",
            "  output['player_dismissed'] = output.groupby('match_id').cumsum()['player_dismissed']\n"
          ]
        }
      ]
    },
    {
      "cell_type": "code",
      "source": [
        "final_df = output[['match_id','batting_team','bowling_team','runs_x','current_score','balls_bowled','wickets_left','crr','city','runs_y']]\n"
      ],
      "metadata": {
        "id": "JWMd1rNyHz0Z"
      },
      "execution_count": 58,
      "outputs": []
    },
    {
      "cell_type": "code",
      "source": [
        "final_df = final_df.sample(final_df.shape[0])\n"
      ],
      "metadata": {
        "id": "clzeXkC_Hzx6"
      },
      "execution_count": 59,
      "outputs": []
    },
    {
      "cell_type": "code",
      "source": [
        "final_df['balls_left'] = 120 - final_df['balls_bowled']\n",
        "final_df['balls_left'] = final_df['balls_left'].apply(lambda x:0 if x<0 else x)"
      ],
      "metadata": {
        "id": "tYGt6ehmHzvS"
      },
      "execution_count": 60,
      "outputs": []
    },
    {
      "cell_type": "code",
      "source": [
        "final_df['crr'] = round((final_df['current_score']*6)/final_df['balls_bowled'],2)\n"
      ],
      "metadata": {
        "id": "kTxX9-kLH-bZ"
      },
      "execution_count": 61,
      "outputs": []
    },
    {
      "cell_type": "code",
      "source": [
        "final_df.drop(columns=['balls_bowled'],inplace=True)\n"
      ],
      "metadata": {
        "id": "1SDwYH3-H-Y-"
      },
      "execution_count": 63,
      "outputs": []
    },
    {
      "cell_type": "code",
      "source": [
        "groups = final_df.groupby('match_id')\n"
      ],
      "metadata": {
        "id": "FkTYqRS7H-WK"
      },
      "execution_count": 64,
      "outputs": []
    },
    {
      "cell_type": "code",
      "source": [
        "match_ids = final_df['match_id'].unique()\n",
        "last_five = []\n",
        "for id in match_ids:\n",
        "    last_five.extend(groups.get_group(id).rolling(window=30).sum()['runs_x'].values.tolist())"
      ],
      "metadata": {
        "id": "TvOAQOsnH-Tq"
      },
      "execution_count": null,
      "outputs": []
    },
    {
      "cell_type": "code",
      "source": [
        "final_df['last_five'] = last_five\n"
      ],
      "metadata": {
        "id": "acfAP5SkIKUy"
      },
      "execution_count": 66,
      "outputs": []
    },
    {
      "cell_type": "code",
      "source": [
        "final_df.dropna(inplace=True)\n"
      ],
      "metadata": {
        "id": "SA2UYyadIKP6"
      },
      "execution_count": 67,
      "outputs": []
    },
    {
      "cell_type": "code",
      "source": [
        "eligible_cities = final_df['city'].value_counts()[final_df['city'].value_counts() > 600].index.tolist()\n",
        "final_df = final_df[final_df['city'].isin(eligible_cities)]"
      ],
      "metadata": {
        "id": "0DxmF_w9IKNb"
      },
      "execution_count": 68,
      "outputs": []
    },
    {
      "cell_type": "code",
      "source": [
        "X = final_df.drop(columns=['match_id','runs_x','runs_y'])\n",
        "y = final_df['runs_y']\n",
        "from sklearn.model_selection import train_test_split\n",
        "X_train,X_test,y_train,y_test = train_test_split(X,y,test_size=0.2,random_state=1)"
      ],
      "metadata": {
        "id": "g9X0a2L5IQ3T"
      },
      "execution_count": 69,
      "outputs": []
    },
    {
      "cell_type": "code",
      "source": [
        "from sklearn.compose import ColumnTransformer\n",
        "from sklearn.preprocessing import OneHotEncoder\n",
        "from sklearn.pipeline import Pipeline\n",
        "from sklearn.preprocessing import StandardScaler\n",
        "from sklearn.ensemble import RandomForestRegressor\n",
        "from xgboost import XGBRegressor\n",
        "from sklearn.metrics import r2_score,mean_absolute_error\n",
        "\n",
        "trf = ColumnTransformer([\n",
        "    ('trf',OneHotEncoder(sparse=False,drop='first'),['batting_team','bowling_team','city'])\n",
        "]\n",
        ",remainder='passthrough')"
      ],
      "metadata": {
        "id": "nsosKU8lIQ06"
      },
      "execution_count": 70,
      "outputs": []
    },
    {
      "cell_type": "code",
      "source": [
        "pipe = Pipeline(steps=[\n",
        "    ('step1',trf),\n",
        "    ('step2',StandardScaler()),\n",
        "    ('step3',XGBRegressor(n_estimators=1000,learning_rate=0.2,max_depth=12,random_state=1))\n",
        "])"
      ],
      "metadata": {
        "id": "KUIYy1WcIQyi"
      },
      "execution_count": 71,
      "outputs": []
    },
    {
      "cell_type": "code",
      "source": [
        "pipe.fit(X_train,y_train)\n",
        "y_pred = pipe.predict(X_test)\n",
        "print(r2_score(y_test,y_pred))\n",
        "print(mean_absolute_error(y_test,y_pred))"
      ],
      "metadata": {
        "colab": {
          "base_uri": "https://localhost:8080/"
        },
        "id": "k35SsyDRIeeh",
        "outputId": "4ef04689-ea0c-4d2e-9e31-ec610182bd0b"
      },
      "execution_count": 72,
      "outputs": [
        {
          "output_type": "stream",
          "name": "stderr",
          "text": [
            "/usr/local/lib/python3.10/dist-packages/sklearn/preprocessing/_encoders.py:868: FutureWarning: `sparse` was renamed to `sparse_output` in version 1.2 and will be removed in 1.4. `sparse_output` is ignored unless you leave `sparse` to its default value.\n",
            "  warnings.warn(\n"
          ]
        },
        {
          "output_type": "stream",
          "name": "stdout",
          "text": [
            "0.9530144816081954\n",
            "3.2691531736999346\n"
          ]
        }
      ]
    }
  ]
}