{
  "nbformat": 4,
  "nbformat_minor": 0,
  "metadata": {
    "colab": {
      "provenance": []
    },
    "kernelspec": {
      "name": "python3",
      "display_name": "Python 3"
    },
    "language_info": {
      "name": "python"
    }
  },
  "cells": [
    {
      "cell_type": "code",
      "execution_count": 27,
      "metadata": {
        "id": "hMZdgc1D50Np"
      },
      "outputs": [],
      "source": [
        "import numpy as np\n",
        "import pandas as pd\n",
        "from yaml import safe_load\n",
        "import os\n",
        "from tqdm import tqdm"
      ]
    },
    {
      "cell_type": "code",
      "source": [
        "filenames = []\n",
        "for file in os.listdir('/content/drive/MyDrive/cricket score predictions '):\n",
        "    filenames.append(os.path.join('/content/drive/MyDrive/cricket score predictions ',file))"
      ],
      "metadata": {
        "id": "OViU4jHt7jRC"
      },
      "execution_count": 28,
      "outputs": []
    },
    {
      "cell_type": "code",
      "source": [
        "# %%capture\n",
        "final_df = pd.DataFrame()\n",
        "counter = 1\n",
        "for file in tqdm(filenames):\n",
        "    with open(file, 'r') as f:\n",
        "        df = pd.json_normalize(safe_load(f))\n",
        "        df['match_id'] = counter\n",
        "        final_df = final_df.append(df)\n",
        "        counter+=1"
      ],
      "metadata": {
        "id": "gjfJrezw8OVB"
      },
      "execution_count": null,
      "outputs": []
    },
    {
      "cell_type": "code",
      "source": [
        "backup = final_df.copy()"
      ],
      "metadata": {
        "id": "t1wpREHM89RA"
      },
      "execution_count": 31,
      "outputs": []
    },
    {
      "cell_type": "code",
      "source": [
        "final_df.drop(columns=[\n",
        "    'meta.data_version',\n",
        "    'meta.created',\n",
        "    'meta.revision',\n",
        "    'info.outcome.bowl_out',\n",
        "    'info.bowl_out',\n",
        "    'info.supersubs.South Africa',\n",
        "    'info.supersubs.New Zealand',\n",
        "    'info.outcome.eliminator',\n",
        "    'info.outcome.result',\n",
        "    'info.outcome.method',\n",
        "    'info.neutral_venue',\n",
        "    'info.match_type_number',\n",
        "    'info.outcome.by.runs',\n",
        "    'info.outcome.by.wickets'\n",
        "],inplace=True)"
      ],
      "metadata": {
        "id": "ED0oHd9X9B4N"
      },
      "execution_count": 22,
      "outputs": []
    },
    {
      "cell_type": "code",
      "source": [
        "final_df = final_df[final_df['info.gender'] == 'male']\n",
        "final_df.drop(columns=['info.gender'],inplace=True)"
      ],
      "metadata": {
        "id": "Vz1GvTi59Hj9"
      },
      "execution_count": null,
      "outputs": []
    },
    {
      "cell_type": "code",
      "source": [
        "final_df = final_df[final_df['info.overs'] == 20]\n",
        "final_df.drop(columns=['info.overs','info.match_type'],inplace=True)"
      ],
      "metadata": {
        "colab": {
          "base_uri": "https://localhost:8080/"
        },
        "id": "adhyGUpB9QL_",
        "outputId": "364e5c7e-3450-4690-8cb4-85bc897a573f"
      },
      "execution_count": 35,
      "outputs": [
        {
          "output_type": "stream",
          "name": "stderr",
          "text": [
            "<ipython-input-35-7fb4794c9448>:2: SettingWithCopyWarning: \n",
            "A value is trying to be set on a copy of a slice from a DataFrame\n",
            "\n",
            "See the caveats in the documentation: https://pandas.pydata.org/pandas-docs/stable/user_guide/indexing.html#returning-a-view-versus-a-copy\n",
            "  final_df.drop(columns=['info.overs','info.match_type'],inplace=True)\n"
          ]
        }
      ]
    },
    {
      "cell_type": "code",
      "source": [
        "import pickle\n",
        "pickle.dump(final_df,open('dataset_level1.pkl','wb'))"
      ],
      "metadata": {
        "id": "9lVt5guF9SWI"
      },
      "execution_count": 36,
      "outputs": []
    }
  ]
}